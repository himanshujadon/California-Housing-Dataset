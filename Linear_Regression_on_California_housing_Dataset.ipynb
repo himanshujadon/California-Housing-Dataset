{
  "cells": [
    {
      "cell_type": "markdown",
      "metadata": {
        "id": "view-in-github",
        "colab_type": "text"
      },
      "source": [
        "<a href=\"https://colab.research.google.com/github/himanshujadon/California-Housing-Dataset/blob/main/Linear_Regression_on_California_housing_Dataset.ipynb\" target=\"_parent\"><img src=\"https://colab.research.google.com/assets/colab-badge.svg\" alt=\"Open In Colab\"/></a>"
      ]
    },
    {
      "cell_type": "code",
      "execution_count": null,
      "metadata": {
        "id": "8KHQgmYjb8xU"
      },
      "outputs": [],
      "source": [
        "from sklearn.datasets import fetch_california_housing"
      ]
    },
    {
      "cell_type": "code",
      "execution_count": null,
      "metadata": {
        "id": "e-96gRpjcD6d"
      },
      "outputs": [],
      "source": [
        "california_housing = fetch_california_housing(as_frame=True)"
      ]
    },
    {
      "cell_type": "code",
      "execution_count": null,
      "metadata": {
        "colab": {
          "base_uri": "https://localhost:8080/"
        },
        "id": "OxWYsVticMCd",
        "outputId": "b51b7a50-5d1e-44ef-e234-b471ceb56c6d"
      },
      "outputs": [
        {
          "output_type": "execute_result",
          "data": {
            "text/plain": [
              "sklearn.utils.Bunch"
            ]
          },
          "metadata": {},
          "execution_count": 3
        }
      ],
      "source": [
        "type(california_housing)"
      ]
    },
    {
      "cell_type": "markdown",
      "source": [
        "## Dataset Exploration"
      ],
      "metadata": {
        "id": "SAXnO9O-VRsT"
      }
    },
    {
      "cell_type": "markdown",
      "source": [
        "STEP 1: Dataset Description"
      ],
      "metadata": {
        "id": "_Ql8J_vhVZgT"
      }
    },
    {
      "cell_type": "code",
      "execution_count": null,
      "metadata": {
        "colab": {
          "base_uri": "https://localhost:8080/"
        },
        "id": "0TZ2pGolcP9H",
        "outputId": "1acc2cf6-a11c-4ba2-ab19-c2fb3a852613"
      },
      "outputs": [
        {
          "output_type": "stream",
          "name": "stdout",
          "text": [
            ".. _california_housing_dataset:\n",
            "\n",
            "California Housing dataset\n",
            "--------------------------\n",
            "\n",
            "**Data Set Characteristics:**\n",
            "\n",
            "    :Number of Instances: 20640\n",
            "\n",
            "    :Number of Attributes: 8 numeric, predictive attributes and the target\n",
            "\n",
            "    :Attribute Information:\n",
            "        - MedInc        median income in block group\n",
            "        - HouseAge      median house age in block group\n",
            "        - AveRooms      average number of rooms per household\n",
            "        - AveBedrms     average number of bedrooms per household\n",
            "        - Population    block group population\n",
            "        - AveOccup      average number of household members\n",
            "        - Latitude      block group latitude\n",
            "        - Longitude     block group longitude\n",
            "\n",
            "    :Missing Attribute Values: None\n",
            "\n",
            "This dataset was obtained from the StatLib repository.\n",
            "https://www.dcc.fc.up.pt/~ltorgo/Regression/cal_housing.html\n",
            "\n",
            "The target variable is the median house value for California districts,\n",
            "expressed in hundreds of thousands of dollars ($100,000).\n",
            "\n",
            "This dataset was derived from the 1990 U.S. census, using one row per census\n",
            "block group. A block group is the smallest geographical unit for which the U.S.\n",
            "Census Bureau publishes sample data (a block group typically has a population\n",
            "of 600 to 3,000 people).\n",
            "\n",
            "An household is a group of people residing within a home. Since the average\n",
            "number of rooms and bedrooms in this dataset are provided per household, these\n",
            "columns may take surpinsingly large values for block groups with few households\n",
            "and many empty houses, such as vacation resorts.\n",
            "\n",
            "It can be downloaded/loaded using the\n",
            ":func:`sklearn.datasets.fetch_california_housing` function.\n",
            "\n",
            ".. topic:: References\n",
            "\n",
            "    - Pace, R. Kelley and Ronald Barry, Sparse Spatial Autoregressions,\n",
            "      Statistics and Probability Letters, 33 (1997) 291-297\n",
            "\n"
          ]
        }
      ],
      "source": [
        "print(california_housing.DESCR)"
      ]
    },
    {
      "cell_type": "markdown",
      "source": [
        "STEP 2: Examine the shape of the matrix"
      ],
      "metadata": {
        "id": "i11216rYVjxq"
      }
    },
    {
      "cell_type": "code",
      "execution_count": null,
      "metadata": {
        "colab": {
          "base_uri": "https://localhost:8080/"
        },
        "id": "MvURuj1sczEr",
        "outputId": "c2d02a58-0b21-43c5-933c-2771e303196e"
      },
      "outputs": [
        {
          "output_type": "execute_result",
          "data": {
            "text/plain": [
              "(20640, 8)"
            ]
          },
          "metadata": {},
          "execution_count": 5
        }
      ],
      "source": [
        "california_housing.data.shape"
      ]
    },
    {
      "cell_type": "code",
      "execution_count": null,
      "metadata": {
        "colab": {
          "base_uri": "https://localhost:8080/"
        },
        "id": "QNMCKhpkdOMU",
        "outputId": "aebf691b-d5e6-4623-83be-41053eb61b78"
      },
      "outputs": [
        {
          "output_type": "execute_result",
          "data": {
            "text/plain": [
              "pandas.core.frame.DataFrame"
            ]
          },
          "metadata": {},
          "execution_count": 6
        }
      ],
      "source": [
        "type(california_housing.data)"
      ]
    },
    {
      "cell_type": "markdown",
      "source": [
        "STEP 3: Examine the shape of label"
      ],
      "metadata": {
        "id": "ziohUfTNVwjR"
      }
    },
    {
      "cell_type": "code",
      "source": [
        "california_housing.target.shape"
      ],
      "metadata": {
        "colab": {
          "base_uri": "https://localhost:8080/"
        },
        "id": "6Ii3rW2RVvln",
        "outputId": "2546aa1c-cffe-4e67-8f6c-08e9e2b563aa"
      },
      "execution_count": null,
      "outputs": [
        {
          "output_type": "execute_result",
          "data": {
            "text/plain": [
              "(20640,)"
            ]
          },
          "metadata": {},
          "execution_count": 7
        }
      ]
    },
    {
      "cell_type": "markdown",
      "source": [
        "STEP 4: Feature Names"
      ],
      "metadata": {
        "id": "vTkyj2c-V97k"
      }
    },
    {
      "cell_type": "code",
      "execution_count": null,
      "metadata": {
        "colab": {
          "base_uri": "https://localhost:8080/"
        },
        "id": "27mvyCONdUOR",
        "outputId": "a948af6b-153a-47f7-c730-579f2dfd2815"
      },
      "outputs": [
        {
          "output_type": "execute_result",
          "data": {
            "text/plain": [
              "['MedInc',\n",
              " 'HouseAge',\n",
              " 'AveRooms',\n",
              " 'AveBedrms',\n",
              " 'Population',\n",
              " 'AveOccup',\n",
              " 'Latitude',\n",
              " 'Longitude']"
            ]
          },
          "metadata": {},
          "execution_count": 8
        }
      ],
      "source": [
        "california_housing.feature_names"
      ]
    },
    {
      "cell_type": "markdown",
      "source": [
        "STEP 5: Examine sample training examples"
      ],
      "metadata": {
        "id": "qu3er-3JWDik"
      }
    },
    {
      "cell_type": "code",
      "source": [
        "california_housing.frame.head()"
      ],
      "metadata": {
        "colab": {
          "base_uri": "https://localhost:8080/",
          "height": 270
        },
        "id": "dqvpkF4kWSMm",
        "outputId": "8a3d3ae2-60c3-4302-846f-1cac996e02fc"
      },
      "execution_count": null,
      "outputs": [
        {
          "output_type": "execute_result",
          "data": {
            "text/plain": [
              "   MedInc  HouseAge  AveRooms  AveBedrms  Population  AveOccup  Latitude  \\\n",
              "0  8.3252      41.0  6.984127   1.023810       322.0  2.555556     37.88   \n",
              "1  8.3014      21.0  6.238137   0.971880      2401.0  2.109842     37.86   \n",
              "2  7.2574      52.0  8.288136   1.073446       496.0  2.802260     37.85   \n",
              "3  5.6431      52.0  5.817352   1.073059       558.0  2.547945     37.85   \n",
              "4  3.8462      52.0  6.281853   1.081081       565.0  2.181467     37.85   \n",
              "\n",
              "   Longitude  MedHouseVal  \n",
              "0    -122.23        4.526  \n",
              "1    -122.22        3.585  \n",
              "2    -122.24        3.521  \n",
              "3    -122.25        3.413  \n",
              "4    -122.25        3.422  "
            ],
            "text/html": [
              "\n",
              "  <div id=\"df-0288702c-111f-4033-9f11-5e4b033b6d4d\">\n",
              "    <div class=\"colab-df-container\">\n",
              "      <div>\n",
              "<style scoped>\n",
              "    .dataframe tbody tr th:only-of-type {\n",
              "        vertical-align: middle;\n",
              "    }\n",
              "\n",
              "    .dataframe tbody tr th {\n",
              "        vertical-align: top;\n",
              "    }\n",
              "\n",
              "    .dataframe thead th {\n",
              "        text-align: right;\n",
              "    }\n",
              "</style>\n",
              "<table border=\"1\" class=\"dataframe\">\n",
              "  <thead>\n",
              "    <tr style=\"text-align: right;\">\n",
              "      <th></th>\n",
              "      <th>MedInc</th>\n",
              "      <th>HouseAge</th>\n",
              "      <th>AveRooms</th>\n",
              "      <th>AveBedrms</th>\n",
              "      <th>Population</th>\n",
              "      <th>AveOccup</th>\n",
              "      <th>Latitude</th>\n",
              "      <th>Longitude</th>\n",
              "      <th>MedHouseVal</th>\n",
              "    </tr>\n",
              "  </thead>\n",
              "  <tbody>\n",
              "    <tr>\n",
              "      <th>0</th>\n",
              "      <td>8.3252</td>\n",
              "      <td>41.0</td>\n",
              "      <td>6.984127</td>\n",
              "      <td>1.023810</td>\n",
              "      <td>322.0</td>\n",
              "      <td>2.555556</td>\n",
              "      <td>37.88</td>\n",
              "      <td>-122.23</td>\n",
              "      <td>4.526</td>\n",
              "    </tr>\n",
              "    <tr>\n",
              "      <th>1</th>\n",
              "      <td>8.3014</td>\n",
              "      <td>21.0</td>\n",
              "      <td>6.238137</td>\n",
              "      <td>0.971880</td>\n",
              "      <td>2401.0</td>\n",
              "      <td>2.109842</td>\n",
              "      <td>37.86</td>\n",
              "      <td>-122.22</td>\n",
              "      <td>3.585</td>\n",
              "    </tr>\n",
              "    <tr>\n",
              "      <th>2</th>\n",
              "      <td>7.2574</td>\n",
              "      <td>52.0</td>\n",
              "      <td>8.288136</td>\n",
              "      <td>1.073446</td>\n",
              "      <td>496.0</td>\n",
              "      <td>2.802260</td>\n",
              "      <td>37.85</td>\n",
              "      <td>-122.24</td>\n",
              "      <td>3.521</td>\n",
              "    </tr>\n",
              "    <tr>\n",
              "      <th>3</th>\n",
              "      <td>5.6431</td>\n",
              "      <td>52.0</td>\n",
              "      <td>5.817352</td>\n",
              "      <td>1.073059</td>\n",
              "      <td>558.0</td>\n",
              "      <td>2.547945</td>\n",
              "      <td>37.85</td>\n",
              "      <td>-122.25</td>\n",
              "      <td>3.413</td>\n",
              "    </tr>\n",
              "    <tr>\n",
              "      <th>4</th>\n",
              "      <td>3.8462</td>\n",
              "      <td>52.0</td>\n",
              "      <td>6.281853</td>\n",
              "      <td>1.081081</td>\n",
              "      <td>565.0</td>\n",
              "      <td>2.181467</td>\n",
              "      <td>37.85</td>\n",
              "      <td>-122.25</td>\n",
              "      <td>3.422</td>\n",
              "    </tr>\n",
              "  </tbody>\n",
              "</table>\n",
              "</div>\n",
              "      <button class=\"colab-df-convert\" onclick=\"convertToInteractive('df-0288702c-111f-4033-9f11-5e4b033b6d4d')\"\n",
              "              title=\"Convert this dataframe to an interactive table.\"\n",
              "              style=\"display:none;\">\n",
              "        \n",
              "  <svg xmlns=\"http://www.w3.org/2000/svg\" height=\"24px\"viewBox=\"0 0 24 24\"\n",
              "       width=\"24px\">\n",
              "    <path d=\"M0 0h24v24H0V0z\" fill=\"none\"/>\n",
              "    <path d=\"M18.56 5.44l.94 2.06.94-2.06 2.06-.94-2.06-.94-.94-2.06-.94 2.06-2.06.94zm-11 1L8.5 8.5l.94-2.06 2.06-.94-2.06-.94L8.5 2.5l-.94 2.06-2.06.94zm10 10l.94 2.06.94-2.06 2.06-.94-2.06-.94-.94-2.06-.94 2.06-2.06.94z\"/><path d=\"M17.41 7.96l-1.37-1.37c-.4-.4-.92-.59-1.43-.59-.52 0-1.04.2-1.43.59L10.3 9.45l-7.72 7.72c-.78.78-.78 2.05 0 2.83L4 21.41c.39.39.9.59 1.41.59.51 0 1.02-.2 1.41-.59l7.78-7.78 2.81-2.81c.8-.78.8-2.07 0-2.86zM5.41 20L4 18.59l7.72-7.72 1.47 1.35L5.41 20z\"/>\n",
              "  </svg>\n",
              "      </button>\n",
              "      \n",
              "  <style>\n",
              "    .colab-df-container {\n",
              "      display:flex;\n",
              "      flex-wrap:wrap;\n",
              "      gap: 12px;\n",
              "    }\n",
              "\n",
              "    .colab-df-convert {\n",
              "      background-color: #E8F0FE;\n",
              "      border: none;\n",
              "      border-radius: 50%;\n",
              "      cursor: pointer;\n",
              "      display: none;\n",
              "      fill: #1967D2;\n",
              "      height: 32px;\n",
              "      padding: 0 0 0 0;\n",
              "      width: 32px;\n",
              "    }\n",
              "\n",
              "    .colab-df-convert:hover {\n",
              "      background-color: #E2EBFA;\n",
              "      box-shadow: 0px 1px 2px rgba(60, 64, 67, 0.3), 0px 1px 3px 1px rgba(60, 64, 67, 0.15);\n",
              "      fill: #174EA6;\n",
              "    }\n",
              "\n",
              "    [theme=dark] .colab-df-convert {\n",
              "      background-color: #3B4455;\n",
              "      fill: #D2E3FC;\n",
              "    }\n",
              "\n",
              "    [theme=dark] .colab-df-convert:hover {\n",
              "      background-color: #434B5C;\n",
              "      box-shadow: 0px 1px 3px 1px rgba(0, 0, 0, 0.15);\n",
              "      filter: drop-shadow(0px 1px 2px rgba(0, 0, 0, 0.3));\n",
              "      fill: #FFFFFF;\n",
              "    }\n",
              "  </style>\n",
              "\n",
              "      <script>\n",
              "        const buttonEl =\n",
              "          document.querySelector('#df-0288702c-111f-4033-9f11-5e4b033b6d4d button.colab-df-convert');\n",
              "        buttonEl.style.display =\n",
              "          google.colab.kernel.accessAllowed ? 'block' : 'none';\n",
              "\n",
              "        async function convertToInteractive(key) {\n",
              "          const element = document.querySelector('#df-0288702c-111f-4033-9f11-5e4b033b6d4d');\n",
              "          const dataTable =\n",
              "            await google.colab.kernel.invokeFunction('convertToInteractive',\n",
              "                                                     [key], {});\n",
              "          if (!dataTable) return;\n",
              "\n",
              "          const docLinkHtml = 'Like what you see? Visit the ' +\n",
              "            '<a target=\"_blank\" href=https://colab.research.google.com/notebooks/data_table.ipynb>data table notebook</a>'\n",
              "            + ' to learn more about interactive tables.';\n",
              "          element.innerHTML = '';\n",
              "          dataTable['output_type'] = 'display_data';\n",
              "          await google.colab.output.renderOutput(dataTable, element);\n",
              "          const docLink = document.createElement('div');\n",
              "          docLink.innerHTML = docLinkHtml;\n",
              "          element.appendChild(docLink);\n",
              "        }\n",
              "      </script>\n",
              "    </div>\n",
              "  </div>\n",
              "  "
            ]
          },
          "metadata": {},
          "execution_count": 9
        }
      ]
    },
    {
      "cell_type": "markdown",
      "source": [
        "STEP 6: Examine features"
      ],
      "metadata": {
        "id": "pazAeKYWWfpG"
      }
    },
    {
      "cell_type": "code",
      "execution_count": null,
      "metadata": {
        "colab": {
          "base_uri": "https://localhost:8080/",
          "height": 270
        },
        "id": "5yJW1Ov_dd_P",
        "outputId": "300aaf0d-e199-4dc8-c2ee-f9f21c3f46b7"
      },
      "outputs": [
        {
          "output_type": "execute_result",
          "data": {
            "text/plain": [
              "   MedInc  HouseAge  AveRooms  AveBedrms  Population  AveOccup  Latitude  \\\n",
              "0  8.3252      41.0  6.984127   1.023810       322.0  2.555556     37.88   \n",
              "1  8.3014      21.0  6.238137   0.971880      2401.0  2.109842     37.86   \n",
              "2  7.2574      52.0  8.288136   1.073446       496.0  2.802260     37.85   \n",
              "3  5.6431      52.0  5.817352   1.073059       558.0  2.547945     37.85   \n",
              "4  3.8462      52.0  6.281853   1.081081       565.0  2.181467     37.85   \n",
              "\n",
              "   Longitude  \n",
              "0    -122.23  \n",
              "1    -122.22  \n",
              "2    -122.24  \n",
              "3    -122.25  \n",
              "4    -122.25  "
            ],
            "text/html": [
              "\n",
              "  <div id=\"df-c7e490a9-3613-4e3a-9ff3-9de9f1da2c99\">\n",
              "    <div class=\"colab-df-container\">\n",
              "      <div>\n",
              "<style scoped>\n",
              "    .dataframe tbody tr th:only-of-type {\n",
              "        vertical-align: middle;\n",
              "    }\n",
              "\n",
              "    .dataframe tbody tr th {\n",
              "        vertical-align: top;\n",
              "    }\n",
              "\n",
              "    .dataframe thead th {\n",
              "        text-align: right;\n",
              "    }\n",
              "</style>\n",
              "<table border=\"1\" class=\"dataframe\">\n",
              "  <thead>\n",
              "    <tr style=\"text-align: right;\">\n",
              "      <th></th>\n",
              "      <th>MedInc</th>\n",
              "      <th>HouseAge</th>\n",
              "      <th>AveRooms</th>\n",
              "      <th>AveBedrms</th>\n",
              "      <th>Population</th>\n",
              "      <th>AveOccup</th>\n",
              "      <th>Latitude</th>\n",
              "      <th>Longitude</th>\n",
              "    </tr>\n",
              "  </thead>\n",
              "  <tbody>\n",
              "    <tr>\n",
              "      <th>0</th>\n",
              "      <td>8.3252</td>\n",
              "      <td>41.0</td>\n",
              "      <td>6.984127</td>\n",
              "      <td>1.023810</td>\n",
              "      <td>322.0</td>\n",
              "      <td>2.555556</td>\n",
              "      <td>37.88</td>\n",
              "      <td>-122.23</td>\n",
              "    </tr>\n",
              "    <tr>\n",
              "      <th>1</th>\n",
              "      <td>8.3014</td>\n",
              "      <td>21.0</td>\n",
              "      <td>6.238137</td>\n",
              "      <td>0.971880</td>\n",
              "      <td>2401.0</td>\n",
              "      <td>2.109842</td>\n",
              "      <td>37.86</td>\n",
              "      <td>-122.22</td>\n",
              "    </tr>\n",
              "    <tr>\n",
              "      <th>2</th>\n",
              "      <td>7.2574</td>\n",
              "      <td>52.0</td>\n",
              "      <td>8.288136</td>\n",
              "      <td>1.073446</td>\n",
              "      <td>496.0</td>\n",
              "      <td>2.802260</td>\n",
              "      <td>37.85</td>\n",
              "      <td>-122.24</td>\n",
              "    </tr>\n",
              "    <tr>\n",
              "      <th>3</th>\n",
              "      <td>5.6431</td>\n",
              "      <td>52.0</td>\n",
              "      <td>5.817352</td>\n",
              "      <td>1.073059</td>\n",
              "      <td>558.0</td>\n",
              "      <td>2.547945</td>\n",
              "      <td>37.85</td>\n",
              "      <td>-122.25</td>\n",
              "    </tr>\n",
              "    <tr>\n",
              "      <th>4</th>\n",
              "      <td>3.8462</td>\n",
              "      <td>52.0</td>\n",
              "      <td>6.281853</td>\n",
              "      <td>1.081081</td>\n",
              "      <td>565.0</td>\n",
              "      <td>2.181467</td>\n",
              "      <td>37.85</td>\n",
              "      <td>-122.25</td>\n",
              "    </tr>\n",
              "  </tbody>\n",
              "</table>\n",
              "</div>\n",
              "      <button class=\"colab-df-convert\" onclick=\"convertToInteractive('df-c7e490a9-3613-4e3a-9ff3-9de9f1da2c99')\"\n",
              "              title=\"Convert this dataframe to an interactive table.\"\n",
              "              style=\"display:none;\">\n",
              "        \n",
              "  <svg xmlns=\"http://www.w3.org/2000/svg\" height=\"24px\"viewBox=\"0 0 24 24\"\n",
              "       width=\"24px\">\n",
              "    <path d=\"M0 0h24v24H0V0z\" fill=\"none\"/>\n",
              "    <path d=\"M18.56 5.44l.94 2.06.94-2.06 2.06-.94-2.06-.94-.94-2.06-.94 2.06-2.06.94zm-11 1L8.5 8.5l.94-2.06 2.06-.94-2.06-.94L8.5 2.5l-.94 2.06-2.06.94zm10 10l.94 2.06.94-2.06 2.06-.94-2.06-.94-.94-2.06-.94 2.06-2.06.94z\"/><path d=\"M17.41 7.96l-1.37-1.37c-.4-.4-.92-.59-1.43-.59-.52 0-1.04.2-1.43.59L10.3 9.45l-7.72 7.72c-.78.78-.78 2.05 0 2.83L4 21.41c.39.39.9.59 1.41.59.51 0 1.02-.2 1.41-.59l7.78-7.78 2.81-2.81c.8-.78.8-2.07 0-2.86zM5.41 20L4 18.59l7.72-7.72 1.47 1.35L5.41 20z\"/>\n",
              "  </svg>\n",
              "      </button>\n",
              "      \n",
              "  <style>\n",
              "    .colab-df-container {\n",
              "      display:flex;\n",
              "      flex-wrap:wrap;\n",
              "      gap: 12px;\n",
              "    }\n",
              "\n",
              "    .colab-df-convert {\n",
              "      background-color: #E8F0FE;\n",
              "      border: none;\n",
              "      border-radius: 50%;\n",
              "      cursor: pointer;\n",
              "      display: none;\n",
              "      fill: #1967D2;\n",
              "      height: 32px;\n",
              "      padding: 0 0 0 0;\n",
              "      width: 32px;\n",
              "    }\n",
              "\n",
              "    .colab-df-convert:hover {\n",
              "      background-color: #E2EBFA;\n",
              "      box-shadow: 0px 1px 2px rgba(60, 64, 67, 0.3), 0px 1px 3px 1px rgba(60, 64, 67, 0.15);\n",
              "      fill: #174EA6;\n",
              "    }\n",
              "\n",
              "    [theme=dark] .colab-df-convert {\n",
              "      background-color: #3B4455;\n",
              "      fill: #D2E3FC;\n",
              "    }\n",
              "\n",
              "    [theme=dark] .colab-df-convert:hover {\n",
              "      background-color: #434B5C;\n",
              "      box-shadow: 0px 1px 3px 1px rgba(0, 0, 0, 0.15);\n",
              "      filter: drop-shadow(0px 1px 2px rgba(0, 0, 0, 0.3));\n",
              "      fill: #FFFFFF;\n",
              "    }\n",
              "  </style>\n",
              "\n",
              "      <script>\n",
              "        const buttonEl =\n",
              "          document.querySelector('#df-c7e490a9-3613-4e3a-9ff3-9de9f1da2c99 button.colab-df-convert');\n",
              "        buttonEl.style.display =\n",
              "          google.colab.kernel.accessAllowed ? 'block' : 'none';\n",
              "\n",
              "        async function convertToInteractive(key) {\n",
              "          const element = document.querySelector('#df-c7e490a9-3613-4e3a-9ff3-9de9f1da2c99');\n",
              "          const dataTable =\n",
              "            await google.colab.kernel.invokeFunction('convertToInteractive',\n",
              "                                                     [key], {});\n",
              "          if (!dataTable) return;\n",
              "\n",
              "          const docLinkHtml = 'Like what you see? Visit the ' +\n",
              "            '<a target=\"_blank\" href=https://colab.research.google.com/notebooks/data_table.ipynb>data table notebook</a>'\n",
              "            + ' to learn more about interactive tables.';\n",
              "          element.innerHTML = '';\n",
              "          dataTable['output_type'] = 'display_data';\n",
              "          await google.colab.output.renderOutput(dataTable, element);\n",
              "          const docLink = document.createElement('div');\n",
              "          docLink.innerHTML = docLinkHtml;\n",
              "          element.appendChild(docLink);\n",
              "        }\n",
              "      </script>\n",
              "    </div>\n",
              "  </div>\n",
              "  "
            ]
          },
          "metadata": {},
          "execution_count": 10
        }
      ],
      "source": [
        "california_housing.data.head()"
      ]
    },
    {
      "cell_type": "markdown",
      "source": [
        "STEP 7: Examine Target"
      ],
      "metadata": {
        "id": "uyD2v6RTWnnS"
      }
    },
    {
      "cell_type": "code",
      "execution_count": null,
      "metadata": {
        "colab": {
          "base_uri": "https://localhost:8080/"
        },
        "id": "acym2WaLd11c",
        "outputId": "2763dd7f-8136-44f4-a51f-c5b522c08937"
      },
      "outputs": [
        {
          "output_type": "execute_result",
          "data": {
            "text/plain": [
              "0        4.526\n",
              "1        3.585\n",
              "2        3.521\n",
              "3        3.413\n",
              "4        3.422\n",
              "         ...  \n",
              "20635    0.781\n",
              "20636    0.771\n",
              "20637    0.923\n",
              "20638    0.847\n",
              "20639    0.894\n",
              "Name: MedHouseVal, Length: 20640, dtype: float64"
            ]
          },
          "metadata": {},
          "execution_count": 11
        }
      ],
      "source": [
        "california_housing.target"
      ]
    },
    {
      "cell_type": "markdown",
      "source": [
        "STEP 8: Examine details of features and labels"
      ],
      "metadata": {
        "id": "W2H2rzG5WszN"
      }
    },
    {
      "cell_type": "code",
      "execution_count": null,
      "metadata": {
        "colab": {
          "base_uri": "https://localhost:8080/"
        },
        "id": "DHG2yPsReE0N",
        "outputId": "7feb496d-05d1-4b29-f1fb-3efdfec150d7"
      },
      "outputs": [
        {
          "output_type": "stream",
          "name": "stdout",
          "text": [
            "<class 'pandas.core.frame.DataFrame'>\n",
            "RangeIndex: 20640 entries, 0 to 20639\n",
            "Data columns (total 9 columns):\n",
            " #   Column       Non-Null Count  Dtype  \n",
            "---  ------       --------------  -----  \n",
            " 0   MedInc       20640 non-null  float64\n",
            " 1   HouseAge     20640 non-null  float64\n",
            " 2   AveRooms     20640 non-null  float64\n",
            " 3   AveBedrms    20640 non-null  float64\n",
            " 4   Population   20640 non-null  float64\n",
            " 5   AveOccup     20640 non-null  float64\n",
            " 6   Latitude     20640 non-null  float64\n",
            " 7   Longitude    20640 non-null  float64\n",
            " 8   MedHouseVal  20640 non-null  float64\n",
            "dtypes: float64(9)\n",
            "memory usage: 1.4 MB\n"
          ]
        }
      ],
      "source": [
        "california_housing.frame.info()"
      ]
    },
    {
      "cell_type": "markdown",
      "source": [
        "STEP 9: Feature and target histograms"
      ],
      "metadata": {
        "id": "0ExM79PIWzZ1"
      }
    },
    {
      "cell_type": "code",
      "execution_count": null,
      "metadata": {
        "id": "8ns6Y170eO1c"
      },
      "outputs": [],
      "source": [
        "import seaborn as sns\n",
        "import matplotlib.pyplot as plt"
      ]
    },
    {
      "cell_type": "code",
      "execution_count": null,
      "metadata": {
        "colab": {
          "base_uri": "https://localhost:8080/",
          "height": 538
        },
        "id": "b20aaIPeeaW-",
        "outputId": "a4861ac5-96c4-40a5-f097-e83242f0fc38"
      },
      "outputs": [
        {
          "output_type": "display_data",
          "data": {
            "text/plain": [
              "<Figure size 864x720 with 9 Axes>"
            ],
            "image/png": "[encoded data removed]"
          },
          "metadata": {
            "needs_background": "light"
          }
        }
      ],
      "source": [
        "california_housing.frame.hist(figsize=(12, 10), bins=30, edgecolor=\"black\")\n",
        "plt.subplots_adjust(hspace=0.7, wspace=0.4)"
      ]
    },
    {
      "cell_type": "markdown",
      "source": [
        "Let's observe these histogram and note down our findings:\n",
        "\n",
        "*   MedInc has a long tail distribution - salary of people is more or less normally distributed with a few folks getting a high salary.\n",
        "*   HouseAge has more or less a uniform distribution.\n",
        "*   The range for features, AveRooms, AveBedrooms, AveOccups, Population, is large and it contains a small number of large values (as there are unnoticable bins on the right in the histogram plots of these features) That would mean that there coulb be certain outliers values present in these features.\n",
        "*   Latitude and Longitude carry geographical info. Thir combination helps us decide price of the house.\n",
        "*   MedHouseVal also has a long tail distribution It spikes towards the end. The reason is that the huses with price more than 5 are given value of 5.\n",
        "\n",
        "\n",
        "\n",
        "\n",
        "\n"
      ],
      "metadata": {
        "id": "g3EZAYwtW8pb"
      }
    },
    {
      "cell_type": "code",
      "execution_count": null,
      "metadata": {
        "id": "CoNhbhN_DOr7"
      },
      "outputs": [],
      "source": [
        "import numpy as np\n",
        "import pandas as pd\n",
        "\n",
        "from scipy.stats import loguniform\n",
        "from scipy.stats import rvs_ratio_uniforms\n",
        "from scipy.stats import uniform \n",
        "\n",
        "from sklearn.dummy import DummyRegressor\n",
        "from sklearn.linear_model import Lasso\n",
        "from sklearn.linear_model import LassoCV\n",
        "from sklearn.linear_model import RidgeCV\n",
        "from sklearn.linear_model import Ridge\n",
        "from sklearn.linear_model import SGDRegressor\n",
        "from sklearn.metrics import mean_squared_error\n",
        "from sklearn.metrics import mean_absolute_error\n",
        "from sklearn.metrics import mean_absolute_percentage_error\n",
        "from sklearn.model_selection import cross_validate\n",
        "from sklearn.model_selection import cross_val_score\n",
        "from sklearn.model_selection import train_test_split\n",
        "from sklearn.model_selection import ShuffleSplit\n",
        "from sklearn.model_selection import validation_curve\n",
        "from sklearn.model_selection import GridSearchCV\n",
        "from sklearn.model_selection import RandomizedSearchCV\n",
        "from sklearn.preprocessing import StandardScaler\n",
        "from sklearn.linear_model import LinearRegression\n",
        "from sklearn.pipeline import Pipeline\n",
        "from sklearn.preprocessing import PolynomialFeatures\n",
        "\n",
        "import warnings\n",
        "\n",
        "warnings.filterwarnings('ignore')"
      ]
    },
    {
      "cell_type": "markdown",
      "metadata": {
        "id": "ijMBwlAQjshz"
      },
      "source": [
        "Common set up"
      ]
    },
    {
      "cell_type": "code",
      "execution_count": null,
      "metadata": {
        "id": "y833oBG2juXw"
      },
      "outputs": [],
      "source": [
        "np.random.seed(306)"
      ]
    },
    {
      "cell_type": "code",
      "execution_count": null,
      "metadata": {
        "id": "8RSUuGfNhdfR"
      },
      "outputs": [],
      "source": [
        "cv = ShuffleSplit(n_splits=10, test_size=0.2, random_state=42)"
      ]
    },
    {
      "cell_type": "markdown",
      "metadata": {
        "id": "8teclYBtktV0"
      },
      "source": [
        "# Data Loading and splitting"
      ]
    },
    {
      "cell_type": "code",
      "execution_count": null,
      "metadata": {
        "id": "6TMVmuuwkwvc"
      },
      "outputs": [],
      "source": [
        "#fetch_dataset\n",
        "features, labels = fetch_california_housing(as_frame = True, return_X_y = True)\n",
        "\n",
        "#train-test-split\n",
        "com_train_features, test_features, com_train_labels, test_labels = train_test_split(features, labels, random_state=42)\n",
        "\n",
        "#train --> train + dev split\n",
        "train_features, dev_features, train_labels, dev_labels = train_test_split(com_train_features, com_train_labels, random_state=42)"
      ]
    },
    {
      "cell_type": "markdown",
      "metadata": {
        "id": "WMrvx3aglk7L"
      },
      "source": [
        "# Linear regression with normal equation"
      ]
    },
    {
      "cell_type": "code",
      "execution_count": null,
      "metadata": {
        "colab": {
          "base_uri": "https://localhost:8080/"
        },
        "id": "YJ4blarVljD9",
        "outputId": "4e09431f-1d08-4149-b285-14353bc250e6"
      },
      "outputs": [
        {
          "output_type": "stream",
          "name": "stdout",
          "text": [
            "Mean absolute error of linear regression model on the train set:\n",
            "0.530 +/- 0.002321\n",
            "Mean absolute error of linear regression model on the test set:\n",
            "0.527 +/- 0.007781\n"
          ]
        }
      ],
      "source": [
        "lin_reg_pipeline = Pipeline([(\"feature_scaling\", StandardScaler()),\n",
        "                             (\"lin_reg\", LinearRegression())])\n",
        "lin_reg_cv_results = cross_validate(lin_reg_pipeline,\n",
        "                                    com_train_features,\n",
        "                                    com_train_labels,\n",
        "                                    cv=cv,\n",
        "                                    scoring=\"neg_mean_absolute_error\",\n",
        "                                    return_train_score=True,\n",
        "                                    return_estimator=True)\n",
        "\n",
        "lin_reg_train_error = -1 * lin_reg_cv_results['train_score']\n",
        "lin_reg_test_error = -1 * lin_reg_cv_results['test_score']\n",
        "\n",
        "print(f\"Mean absolute error of linear regression model on the train set:\\n\"\n",
        "f\"{lin_reg_train_error.mean():.3f} +/- {lin_reg_train_error.std():3f}\")\n",
        "print(f\"Mean absolute error of linear regression model on the test set:\\n\"\n",
        "f\"{lin_reg_test_error.mean():.3f} +/- {lin_reg_test_error.std():3f}\")\n"
      ]
    },
    {
      "cell_type": "markdown",
      "metadata": {
        "id": "ZscBpiVXn9ev"
      },
      "source": [
        "Linear regression with SGD"
      ]
    },
    {
      "cell_type": "code",
      "execution_count": null,
      "metadata": {
        "colab": {
          "base_uri": "https://localhost:8080/"
        },
        "id": "xCcemVA7n9BL",
        "outputId": "80b357df-420d-4d70-e2a7-68fd410bcfa6"
      },
      "outputs": [
        {
          "output_type": "stream",
          "name": "stdout",
          "text": [
            "Mean absolute error of SGD regression model on the train set:\n",
            "0.564 +/- 0.022667\n",
            "Mean absolute error of SGD regression model on the test set:\n",
            "0.561 +/- 0.025297\n"
          ]
        }
      ],
      "source": [
        "sgd_reg_pipeline = Pipeline([(\"feature scaling\", StandardScaler()),\n",
        "                         (\"sgd_reg\", SGDRegressor(max_iter=np.ceil(\n",
        "                             1e6/com_train_features.shape[0]),\n",
        "                          early_stopping=True,\n",
        "                          eta0=1e-4,\n",
        "                          learning_rate='constant',\n",
        "                          tol=1e-5,\n",
        "                          validation_fraction=0.1,\n",
        "                          n_iter_no_change=5,\n",
        "                          average=10,\n",
        "                          random_state=42))])\n",
        "\n",
        "sgd_reg_cv_results = cross_validate(sgd_reg_pipeline,\n",
        "                                    com_train_features,\n",
        "                                    com_train_labels,\n",
        "                                    cv=cv,\n",
        "                                    scoring=\"neg_mean_absolute_error\",\n",
        "                                    return_train_score=True,\n",
        "                                    return_estimator=True)\n",
        "\n",
        "sgd_train_error = -1 * sgd_reg_cv_results['train_score']\n",
        "sgd_test_error = -1 * sgd_reg_cv_results['test_score']\n",
        "\n",
        "print(f\"Mean absolute error of SGD regression model on the train set:\\n\"\n",
        "      f\"{sgd_train_error.mean():.3f} +/- {sgd_train_error.std():3f}\")\n",
        "print(f\"Mean absolute error of SGD regression model on the test set:\\n\"\n",
        "      f\"{sgd_test_error.mean():.3f} +/- {sgd_test_error.std():3f}\")"
      ]
    },
    {
      "cell_type": "markdown",
      "metadata": {
        "id": "5iWsjFkSrwGV"
      },
      "source": [
        "# Polynomial regression"
      ]
    },
    {
      "cell_type": "code",
      "execution_count": null,
      "metadata": {
        "colab": {
          "base_uri": "https://localhost:8080/"
        },
        "id": "pbgiRNuprgl-",
        "outputId": "6bcfc269-f1a0-453a-badf-0a96521db800"
      },
      "outputs": [
        {
          "output_type": "stream",
          "name": "stdout",
          "text": [
            "Mean absolute error of Polynomial regression model on the train set:\n",
            "0.461 +/- 0.002977\n",
            "Mean absolute error of Polynomial regression model on the test set:\n",
            "0.485 +/- 0.030312\n"
          ]
        }
      ],
      "source": [
        "poly_reg_pipeline = Pipeline([(\"poly\", PolynomialFeatures(degree=2)),\n",
        "                              (\"feature scaling\", StandardScaler()),\n",
        "                              (\"lin_reg\",LinearRegression())])\n",
        "\n",
        "poly_reg_cv_results = cross_validate(poly_reg_pipeline,\n",
        "                                    com_train_features,\n",
        "                                    com_train_labels,\n",
        "                                    cv=cv,\n",
        "                                    scoring=\"neg_mean_absolute_error\",\n",
        "                                    return_train_score=True,\n",
        "                                    return_estimator=True)\n",
        "\n",
        "poly_reg_train_error = -1 * poly_reg_cv_results['train_score']\n",
        "poly_reg_test_error = -1 * poly_reg_cv_results['test_score']                          \n",
        "\n",
        "print(f\"Mean absolute error of Polynomial regression model on the train set:\\n\"\n",
        "      f\"{poly_reg_train_error.mean():.3f} +/- {poly_reg_train_error.std():3f}\")\n",
        "print(f\"Mean absolute error of Polynomial regression model on the test set:\\n\"\n",
        "      f\"{poly_reg_test_error.mean():.3f} +/- {poly_reg_test_error.std():3f}\")"
      ]
    },
    {
      "cell_type": "code",
      "execution_count": null,
      "metadata": {
        "colab": {
          "base_uri": "https://localhost:8080/"
        },
        "id": "TV1WrwF6u97J",
        "outputId": "c5a5853a-988c-4fc6-9b4e-63c484cb5e89"
      },
      "outputs": [
        {
          "output_type": "stream",
          "name": "stdout",
          "text": [
            "Mean absolute error of Polynomial regression model on the train set:\n",
            "0.478 +/- 0.002820\n",
            "Mean absolute error of Polynomial regression model on the test set:\n",
            "0.497 +/- 0.024387\n"
          ]
        }
      ],
      "source": [
        "poly_reg_pipeline = Pipeline([(\"poly\", PolynomialFeatures(degree=2,interaction_only=True)),\n",
        "                              (\"feature scaling\", StandardScaler()),\n",
        "                              (\"lin_reg\",LinearRegression())])\n",
        "\n",
        "poly_reg_cv_results = cross_validate(poly_reg_pipeline,\n",
        "                                    com_train_features,\n",
        "                                    com_train_labels,\n",
        "                                    cv=cv,\n",
        "                                    scoring=\"neg_mean_absolute_error\",\n",
        "                                    return_train_score=True,\n",
        "                                    return_estimator=True)\n",
        "\n",
        "poly_reg_train_error = -1 * poly_reg_cv_results['train_score']\n",
        "poly_reg_test_error = -1 * poly_reg_cv_results['test_score']                          \n",
        "\n",
        "print(f\"Mean absolute error of Polynomial regression model on the train set:\\n\"\n",
        "      f\"{poly_reg_train_error.mean():.3f} +/- {poly_reg_train_error.std():3f}\")\n",
        "print(f\"Mean absolute error of Polynomial regression model on the test set:\\n\"\n",
        "      f\"{poly_reg_test_error.mean():.3f} +/- {poly_reg_test_error.std():3f}\")"
      ]
    },
    {
      "cell_type": "code",
      "execution_count": null,
      "metadata": {
        "colab": {
          "base_uri": "https://localhost:8080/",
          "height": 295
        },
        "id": "YslYQGJCq8tj",
        "outputId": "923b52a8-80ca-4b7c-b6b3-88acdf0870fe"
      },
      "outputs": [
        {
          "output_type": "display_data",
          "data": {
            "text/plain": [
              "<Figure size 432x288 with 1 Axes>"
            ],
            "image/png": "[encoded data removed]"
          },
          "metadata": {
            "needs_background": "light"
          }
        }
      ],
      "source": [
        "degree = [1,2,3,4,5]\n",
        "train_scores, test_scores = validation_curve(\n",
        "    poly_reg_pipeline, com_train_features, com_train_labels, param_name=\"poly__degree\",\n",
        "    param_range=degree, cv=cv,scoring=\"neg_mean_absolute_error\",\n",
        "    n_jobs=2)\n",
        "\n",
        "train_errors, test_errors = -train_scores, -test_scores\n",
        "plt.plot(degree, train_errors.mean(axis=1), 'b-x', label=\"Training error\")\n",
        "plt.plot(degree, test_errors.mean(axis=1), 'r-x', label=\"Test error\")\n",
        "plt.legend()\n",
        "\n",
        "plt.xlabel(\"degree\")\n",
        "plt.ylabel(\"Mean absolute error (k$)\")\n",
        "_ = plt.title(\"Validation curve for polynomial regression\")\n"
      ]
    },
    {
      "cell_type": "markdown",
      "metadata": {
        "id": "_eVVZajU6hkt"
      },
      "source": [
        "# Ridge Regression:"
      ]
    },
    {
      "cell_type": "code",
      "execution_count": null,
      "metadata": {
        "colab": {
          "base_uri": "https://localhost:8080/"
        },
        "id": "H3W2vDpL6dJR",
        "outputId": "bdd7215c-f96a-4646-b1d8-1616e4a96461"
      },
      "outputs": [
        {
          "output_type": "stream",
          "name": "stdout",
          "text": [
            "Mean absolute error of ridge regression model (alpha=0.5) on the train set:\n",
            " 0.481 +/- 0.003\n",
            "Mean absolute error of ridge regression model (alpha=0.5) on the test set:\n",
            " 0.487 +/- 0.006\n"
          ]
        }
      ],
      "source": [
        "ridge_reg_pipeline = Pipeline([(\"poly\", PolynomialFeatures(degree=2)),\n",
        "                               (\"feature_scaling\", StandardScaler()),\n",
        "                               (\"ridge\", Ridge(alpha=0.5))])\n",
        "ridge_reg_cv_results = cross_validate(ridge_reg_pipeline,\n",
        "                                      com_train_features,\n",
        "                                      com_train_labels,\n",
        "                                      cv=cv,\n",
        "                                      scoring=\"neg_mean_absolute_error\",\n",
        "                                      return_train_score=True,\n",
        "                                      return_estimator=True)\n",
        "\n",
        "ridge_reg_train_error = -1 * ridge_reg_cv_results['train_score']\n",
        "ridge_reg_test_error = -1 * ridge_reg_cv_results['test_score']\n",
        "\n",
        "print(f\"Mean absolute error of ridge regression model (alpha=0.5) on the train set:\\n \"\n",
        "      f\"{ridge_reg_train_error.mean():.3f} +/- {ridge_reg_train_error.std():.3f}\")\n",
        "print(f\"Mean absolute error of ridge regression model (alpha=0.5) on the test set:\\n \"\n",
        "      f\"{ridge_reg_test_error.mean():.3f} +/- {ridge_reg_test_error.std():.3f}\")\n"
      ]
    },
    {
      "cell_type": "markdown",
      "metadata": {
        "id": "UM1j19s08uvH"
      },
      "source": [
        "HPT for ridge regularization rate"
      ]
    },
    {
      "cell_type": "code",
      "execution_count": null,
      "metadata": {
        "id": "aRx-Vklp8yoD"
      },
      "outputs": [],
      "source": [
        "alpha_list = np.logspace(-4, 0, num=20)\n",
        "ridge_reg_pipeline = Pipeline([(\"poly\", PolynomialFeatures(degree=2)),\n",
        "                              (\"feature_scaling\", StandardScaler()),\n",
        "                              (\"ridge_cv\", RidgeCV(alphas=alpha_list,\n",
        "                                                    cv=cv,\n",
        "                                                    scoring=\"neg_mean_absolute_error\"))])\n",
        "ridge_reg_cv_results = ridge_reg_pipeline.fit(com_train_features, com_train_labels)"
      ]
    },
    {
      "cell_type": "code",
      "execution_count": null,
      "metadata": {
        "colab": {
          "base_uri": "https://localhost:8080/"
        },
        "id": "RlGb9XeY9ktw",
        "outputId": "c685504b-a6d7-433d-caed-4d3851928694"
      },
      "outputs": [
        {
          "output_type": "stream",
          "name": "stdout",
          "text": [
            "The score with the best alpha is: -0.473\n",
            "The error with the best alpha is: 0.473\n"
          ]
        }
      ],
      "source": [
        "print(\"The score with the best alpha is:\",\n",
        "      f\"{ridge_reg_cv_results[-1].best_score_:.3f}\")\n",
        "print(\"The error with the best alpha is:\",\n",
        "      f\"{-ridge_reg_cv_results[-1].best_score_:.3f}\")"
      ]
    },
    {
      "cell_type": "code",
      "execution_count": null,
      "metadata": {
        "colab": {
          "base_uri": "https://localhost:8080/"
        },
        "id": "83SBFuxT94tV",
        "outputId": "f1db94a4-766a-4e98-9807-d00d0b64c3fb"
      },
      "outputs": [
        {
          "output_type": "stream",
          "name": "stdout",
          "text": [
            "The best value for alpha: 0.007847599703514606\n"
          ]
        }
      ],
      "source": [
        "print(\"The best value for alpha:\", ridge_reg_cv_results[-1].alpha_)"
      ]
    },
    {
      "cell_type": "markdown",
      "metadata": {
        "id": "ntNgjzYt-FKz"
      },
      "source": [
        "# RidgeCV with cross validation"
      ]
    },
    {
      "cell_type": "code",
      "execution_count": null,
      "metadata": {
        "colab": {
          "base_uri": "https://localhost:8080/"
        },
        "id": "kUOofExQ-HvA",
        "outputId": "b24023d7-b6d2-42ae-8480-ec34e3d66ecb"
      },
      "outputs": [
        {
          "output_type": "stream",
          "name": "stdout",
          "text": [
            "Mean absolute error of ridge regression model (alpha=0.5) on the train set:\n",
            " 0.470 +/- 0.011\n",
            "Mean absolute error of ridge regression model (alpha=0.5) on the test set:\n",
            " 0.474 +/- 0.011\n"
          ]
        }
      ],
      "source": [
        "alpha_list = np.logspace(-4, 0, num=20)\n",
        "ridge_reg_pipeline = Pipeline([(\"poly\", PolynomialFeatures(degree=2)),\n",
        "                              (\"feature_scaling\", StandardScaler()),\n",
        "                              (\"ridge_cv\", RidgeCV(alphas=alpha_list)\n",
        "                              )])\n",
        "\n",
        "ridge_reg_cv_results = cross_validate(ridge_reg_pipeline,\n",
        "                                      com_train_features,\n",
        "                                      com_train_labels,\n",
        "                                      cv=cv,\n",
        "                                      scoring=\"neg_mean_absolute_error\",\n",
        "                                      return_train_score=True,\n",
        "                                      return_estimator=True)\n",
        "\n",
        "ridge_reg_train_error = -1 * ridge_reg_cv_results['train_score']\n",
        "ridge_reg_test_error = -1 * ridge_reg_cv_results['test_score']\n",
        "\n",
        "print(f\"Mean absolute error of ridge regression model (alpha=0.5) on the train set:\\n \"\n",
        "      f\"{ridge_reg_train_error.mean():.3f} +/- {ridge_reg_train_error.std():.3f}\")\n",
        "print(f\"Mean absolute error of ridge regression model (alpha=0.5) on the test set:\\n \"\n",
        "      f\"{ridge_reg_test_error.mean():.3f} +/- {ridge_reg_test_error.std():.3f}\")\n"
      ]
    },
    {
      "cell_type": "markdown",
      "metadata": {
        "id": "taHknU5MANZF"
      },
      "source": [
        "# Ridge HPT through GridSearchCV\n",
        "\n",
        "\n"
      ]
    },
    {
      "cell_type": "code",
      "execution_count": null,
      "metadata": {
        "colab": {
          "base_uri": "https://localhost:8080/"
        },
        "id": "WyVoitp1ASEZ",
        "outputId": "9d7c3325-ba85-4019-c980-8c3ee4afd2fb"
      },
      "outputs": [
        {
          "output_type": "execute_result",
          "data": {
            "text/plain": [
              "GridSearchCV(cv=ShuffleSplit(n_splits=10, random_state=42, test_size=0.2, train_size=None),\n",
              "             estimator=Pipeline(steps=[('poly', PolynomialFeatures()),\n",
              "                                       ('feature_scaling', StandardScaler()),\n",
              "                                       ('ridge', Ridge())]),\n",
              "             n_jobs=2,\n",
              "             param_grid={'poly__degree': (1, 2, 3),\n",
              "                         'ridge__alpha': array([1.00000000e-04, 1.62377674e-04, 2.63665090e-04, 4.28133240e-04,\n",
              "       6.95192796e-04, 1.12883789e-03, 1.83298071e-03, 2.97635144e-03,\n",
              "       4.83293024e-03, 7.84759970e-03, 1.27427499e-02, 2.06913808e-02,\n",
              "       3.35981829e-02, 5.45559478e-02, 8.85866790e-02, 1.43844989e-01,\n",
              "       2.33572147e-01, 3.79269019e-01, 6.15848211e-01, 1.00000000e+00])},\n",
              "             return_train_score=True, scoring='neg_mean_absolute_error')"
            ]
          },
          "metadata": {},
          "execution_count": 29
        }
      ],
      "source": [
        "ridge_grid_pipeline = Pipeline([(\"poly\", PolynomialFeatures(degree=2)),\n",
        "                                                                  (\"feature_scaling\", StandardScaler()),\n",
        "                                                                   (\"ridge\", Ridge())])\n",
        "\n",
        "param_grid = {'poly__degree': (1, 2, 3),\n",
        "              'ridge__alpha': np.logspace(-4, 0, num=20)}\n",
        "ridge_grid_search = GridSearchCV(ridge_grid_pipeline,\n",
        "                                 param_grid = param_grid,\n",
        "                                 n_jobs=2,\n",
        "                                 cv=cv,\n",
        "                                 scoring=\"neg_mean_absolute_error\",\n",
        "                                 return_train_score=True)\n",
        "ridge_grid_search.fit(com_train_features, com_train_labels)                                                                                                      "
      ]
    },
    {
      "cell_type": "code",
      "source": [
        "mean_train_error = -1 * ridge_grid_search.cv_results_['mean_train_score'][ridge_grid_search.best_index_]\n",
        "mean_test_error = -1 * ridge_grid_search.cv_results_['mean_test_score'][ridge_grid_search.best_index_]\n",
        "std_train_error = ridge_grid_search.cv_results_['std_train_score'][ridge_grid_search.best_index_]\n",
        "std_test_error = ridge_grid_search.cv_results_['std_test_score'][ridge_grid_search.best_index_]\n",
        "\n",
        "print(f\"Best Mean absolute error of polynomial ridge regression model on the train set:\\n\"\n",
        "      f\"{mean_train_error:.3f} +/- {std_train_error:.3f}\")\n",
        "print(f\"Best Mean absolute error of polynomial ridge regression model on the test set:\\n\"\n",
        "      f\"{mean_test_error:.3f} +/- {std_test_error:.3f}\")"
      ],
      "metadata": {
        "colab": {
          "base_uri": "https://localhost:8080/"
        },
        "id": "jUPAu0cvezkg",
        "outputId": "b533b715-4b8b-466e-aaf5-84ac4e5cf1e7"
      },
      "execution_count": null,
      "outputs": [
        {
          "output_type": "stream",
          "name": "stdout",
          "text": [
            "Best Mean absolute error of polynomial ridge regression model on the train set:\n",
            "0.463 +/- 0.004\n",
            "Best Mean absolute error of polynomial ridge regression model on the test set:\n",
            "0.474 +/- 0.015\n"
          ]
        }
      ]
    },
    {
      "cell_type": "code",
      "source": [
        "print(\"Mean cross validated score of the best estimator is: \", ridge_grid_search.best_score_)\n",
        "print(\"Mean cross validated error of the best estimator is: \", -ridge_grid_search.best_score_)"
      ],
      "metadata": {
        "colab": {
          "base_uri": "https://localhost:8080/"
        },
        "id": "7jIGIfkqgK10",
        "outputId": "1c130227-5367-4fa9-e475-2064535a40a5"
      },
      "execution_count": null,
      "outputs": [
        {
          "output_type": "stream",
          "name": "stdout",
          "text": [
            "Mean cross validated score of the best estimator is:  -0.4738651176991914\n",
            "Mean cross validated error of the best estimator is:  0.4738651176991914\n"
          ]
        }
      ]
    },
    {
      "cell_type": "code",
      "source": [
        "print(\"The best parameter value is:\", ridge_grid_search.best_params_)"
      ],
      "metadata": {
        "colab": {
          "base_uri": "https://localhost:8080/"
        },
        "id": "B_JyEVU1gaVh",
        "outputId": "a1ef7072-0477-4c1d-d67d-c881e067e076"
      },
      "execution_count": null,
      "outputs": [
        {
          "output_type": "stream",
          "name": "stdout",
          "text": [
            "The best parameter value is: {'poly__degree': 2, 'ridge__alpha': 0.007847599703514606}\n"
          ]
        }
      ]
    },
    {
      "cell_type": "markdown",
      "metadata": {
        "id": "VxICXhpDQoX8"
      },
      "source": [
        "# Lasso Regression\n",
        "Baseline model with fixed learning rate"
      ]
    },
    {
      "cell_type": "code",
      "execution_count": null,
      "metadata": {
        "colab": {
          "base_uri": "https://localhost:8080/"
        },
        "id": "_bqsKLajB1lG",
        "outputId": "375647b5-d5f0-4cbc-ecf2-8460bc4ea0a7"
      },
      "outputs": [
        {
          "output_type": "stream",
          "name": "stdout",
          "text": [
            "Mean absolute error of lasso regression model (alpha=0.01) on the train set:\n",
            " 0.529 +/- 0.003\n",
            "Mean absolute error of lasso regression model (alpha=0.01) on the test set:\n",
            " 0.528 +/- 0.008\n"
          ]
        }
      ],
      "source": [
        "lasso_reg_pipeline = Pipeline([(\"poly\", PolynomialFeatures(degree=2)),\n",
        "                              (\"feature_scaling\", StandardScaler()),\n",
        "                              (\"lasso\", Lasso(alpha=0.01))])\n",
        "lasso_reg_cv_results = cross_validate(lasso_reg_pipeline,\n",
        "                                      com_train_features,\n",
        "                                      com_train_labels,\n",
        "                                      cv=cv,\n",
        "                                      scoring=\"neg_mean_absolute_error\",\n",
        "                                      return_train_score=True,\n",
        "                                      return_estimator=True)\n",
        "\n",
        "lasso_reg_train_error = -1 * lasso_reg_cv_results['train_score']\n",
        "lasso_reg_test_error = -1 * lasso_reg_cv_results['test_score']\n",
        "\n",
        "print(f\"Mean absolute error of lasso regression model (alpha=0.01) on the train set:\\n \"\n",
        "      f\"{lasso_reg_train_error.mean():.3f} +/- {lasso_reg_train_error.std():.3f}\")\n",
        "print(f\"Mean absolute error of lasso regression model (alpha=0.01) on the test set:\\n \"\n",
        "      f\"{lasso_reg_test_error.mean():.3f} +/- {lasso_reg_test_error.std():.3f}\")\n"
      ]
    },
    {
      "cell_type": "markdown",
      "source": [
        "## HPT for Lasso Regularization"
      ],
      "metadata": {
        "id": "v5O1P12Xg0-Z"
      }
    },
    {
      "cell_type": "markdown",
      "source": [
        "### with GridSearchCV"
      ],
      "metadata": {
        "id": "z_fcZAmlg9gb"
      }
    },
    {
      "cell_type": "code",
      "execution_count": null,
      "metadata": {
        "colab": {
          "base_uri": "https://localhost:8080/"
        },
        "id": "_A0rlh51R6hE",
        "outputId": "05f45ac5-684b-4ffc-f75f-d2583ff6e2d8"
      },
      "outputs": [
        {
          "output_type": "execute_result",
          "data": {
            "text/plain": [
              "GridSearchCV(cv=ShuffleSplit(n_splits=10, random_state=42, test_size=0.2, train_size=None),\n",
              "             estimator=Pipeline(steps=[('poly', PolynomialFeatures()),\n",
              "                                       ('feature_scaling', StandardScaler()),\n",
              "                                       ('lasso', Lasso())]),\n",
              "             n_jobs=2,\n",
              "             param_grid={'lasso__alpha': array([1.00000000e-04, 1.62377674e-04, 2.63665090e-04, 4.28133240e-04,\n",
              "       6.95192796e-04, 1.12883789e-03, 1.83298071e-03, 2.97635144e-03,\n",
              "       4.83293024e-03, 7.84759970e-03, 1.27427499e-02, 2.06913808e-02,\n",
              "       3.35981829e-02, 5.45559478e-02, 8.85866790e-02, 1.43844989e-01,\n",
              "       2.33572147e-01, 3.79269019e-01, 6.15848211e-01, 1.00000000e+00]),\n",
              "                         'poly__degree': (1, 2, 3)},\n",
              "             return_train_score=True, scoring='neg_mean_absolute_error')"
            ]
          },
          "metadata": {},
          "execution_count": 34
        }
      ],
      "source": [
        "lasso_grid_pipeline = Pipeline([(\"poly\", PolynomialFeatures(degree=2)),\n",
        "                              (\"feature_scaling\", StandardScaler()),\n",
        "                              (\"lasso\", Lasso())])\n",
        "param_grid = {'poly__degree': (1, 2, 3),\n",
        "              'lasso__alpha': np.logspace(-4, 0, num=20)}\n",
        "lasso_grid_search = GridSearchCV(lasso_grid_pipeline,\n",
        "                                 param_grid=param_grid,\n",
        "                                 n_jobs=2,\n",
        "                                 cv=cv,\n",
        "                                 scoring=\"neg_mean_absolute_error\",\n",
        "                                 return_train_score=True)\n",
        "lasso_grid_search.fit(com_train_features, com_train_labels)              "
      ]
    },
    {
      "cell_type": "code",
      "source": [
        "mean_train_error = -1 * lasso_grid_search.cv_results_['mean_train_score'][lasso_grid_search.best_index_]\n",
        "mean_test_error = -1 * lasso_grid_search.cv_results_['mean_test_score'][lasso_grid_search.best_index_]\n",
        "std_train_error = lasso_grid_search.cv_results_['std_train_score'][lasso_grid_search.best_index_]\n",
        "std_test_error = lasso_grid_search.cv_results_['std_test_score'][lasso_grid_search.best_index_]\n",
        "\n",
        "print(f\"Best Mean absolute error of polynomial lasso regression model on the train set:\\n\"\n",
        "      f\"{mean_train_error:.3f} +/- {std_train_error:.3f}\")\n",
        "print(f\"Best Mean absolute error of polynomial lasso regression model on the test set:\\n\"\n",
        "      f\"{mean_test_error:.3f} +/- {std_test_error:.3f}\")"
      ],
      "metadata": {
        "id": "MroSMZp5Wmyq",
        "colab": {
          "base_uri": "https://localhost:8080/"
        },
        "outputId": "725ba0ee-3fab-4809-f152-d5bddfa7da75"
      },
      "execution_count": null,
      "outputs": [
        {
          "output_type": "stream",
          "name": "stdout",
          "text": [
            "Best Mean absolute error of polynomial lasso regression model on the train set:\n",
            "0.462 +/- 0.003\n",
            "Best Mean absolute error of polynomial lasso regression model on the test set:\n",
            "0.488 +/- 0.046\n"
          ]
        }
      ]
    },
    {
      "cell_type": "code",
      "source": [
        "print(\"The best parameter value is:\", lasso_grid_search.best_params_)"
      ],
      "metadata": {
        "id": "_StuXaBHhcKz",
        "colab": {
          "base_uri": "https://localhost:8080/"
        },
        "outputId": "bef94b67-76bc-4495-f58f-517559564db4"
      },
      "execution_count": null,
      "outputs": [
        {
          "output_type": "stream",
          "name": "stdout",
          "text": [
            "The best parameter value is: {'lasso__alpha': 0.0001, 'poly__degree': 3}\n"
          ]
        }
      ]
    },
    {
      "cell_type": "code",
      "source": [
        "print(\"Mean cross validated score of the best estimator value is:\", lasso_grid_search.best_score_)"
      ],
      "metadata": {
        "id": "xobns4JohpMx",
        "colab": {
          "base_uri": "https://localhost:8080/"
        },
        "outputId": "b5aa6808-85a0-44c9-c3fd-5b9dd07869f0"
      },
      "execution_count": null,
      "outputs": [
        {
          "output_type": "stream",
          "name": "stdout",
          "text": [
            "Mean cross validated score of the best estimator value is: -0.48798304453391356\n"
          ]
        }
      ]
    },
    {
      "cell_type": "markdown",
      "source": [
        "# SGD: Regularization and HPT"
      ],
      "metadata": {
        "id": "mjWK-yXjh3RF"
      }
    },
    {
      "cell_type": "code",
      "source": [
        "poly_sgd_pipeline = Pipeline([(\"poly\", PolynomialFeatures()),\n",
        "                              (\"feature_scaling\", StandardScaler()),\n",
        "                              (\"sgd_reg\", SGDRegressor(\n",
        "                                  penalty='elasticnet',\n",
        "                                  random_state=42))])\n",
        "poly_sgd_cv_results = cross_validate(poly_sgd_pipeline,\n",
        "                                      com_train_features,\n",
        "                                      com_train_labels,\n",
        "                                      cv=cv,\n",
        "                                      scoring=\"neg_mean_absolute_error\",\n",
        "                                      return_train_score=True,\n",
        "                                      return_estimator=True)\n",
        "\n",
        "poly_sgd_train_error = -1 * poly_sgd_cv_results['train_score']\n",
        "poly_sgd_test_error = -1 * poly_sgd_cv_results['test_score']\n",
        "\n",
        "print(f\"Mean absolute error of SGD regression model on the train set:\\n \"\n",
        "      f\"{poly_sgd_train_error.mean():.3f} +/- {poly_sgd_train_error.std():.3f}\")\n",
        "print(f\"Mean absolute error of SGD regression model on the test set:\\n \"\n",
        "      f\"{poly_sgd_test_error.mean():.3f} +/- {poly_sgd_test_error.std():.3f}\")"
      ],
      "metadata": {
        "id": "15X3vL5Vh7xd",
        "colab": {
          "base_uri": "https://localhost:8080/"
        },
        "outputId": "a773b5bd-f254-41f3-e2eb-a6e2d4f59fed"
      },
      "execution_count": null,
      "outputs": [
        {
          "output_type": "stream",
          "name": "stdout",
          "text": [
            "Mean absolute error of SGD regression model on the train set:\n",
            " 10824283052.546 +/- 4423288211.832\n",
            "Mean absolute error of SGD regression model on the test set:\n",
            " 10946788540.250 +/- 5396536227.703\n"
          ]
        }
      ]
    },
    {
      "cell_type": "markdown",
      "source": [
        "Let's search for the best set of paramters for polynomial+SGD pipeline with `RandomizedSearvhCV`.\n",
        "\n",
        "> Remember in RandomizedSearchCV, we need to specify distributions for hyperparameters.\n",
        "\n"
      ],
      "metadata": {
        "id": "vcUNT9BOjCv7"
      }
    },
    {
      "cell_type": "code",
      "source": [
        "class uniform_int:\n",
        "  '''Integer valued version of the uniform distribution'''\n",
        "  def __init__(self, a, b):\n",
        "    self._distribution = uniform(a, b)\n",
        "\n",
        "  def rvs(self, *args, **kwargs):\n",
        "    return self._distribution.rvs(*args, **kwargs).astype(int)"
      ],
      "metadata": {
        "id": "pVA7J8CYi5eF"
      },
      "execution_count": null,
      "outputs": []
    },
    {
      "cell_type": "code",
      "source": [
        "param_distributions = {\n",
        "    'poly__degree' : [1, 2, 3],\n",
        "    'sgd_reg__learning_rate': ['constant', 'adaptive', 'invscaling'],\n",
        "    'sgd_reg__l1_ratio': uniform(0, 1),\n",
        "    'sgd_reg__eta0': loguniform(1e-5, 1),\n",
        "    'sgd_reg__power_t': uniform(0, 1)\n",
        "} \n",
        "\n",
        "poly_sgd_random_search = RandomizedSearchCV(\n",
        "    poly_sgd_pipeline, param_distributions = param_distributions,\n",
        "    n_iter=10, cv=cv, verbose=1, scoring='neg_mean_absolute_error'\n",
        ")\n",
        "poly_sgd_random_search.fit(com_train_features, com_train_labels)"
      ],
      "metadata": {
        "id": "lP2FPOtjj7dS",
        "colab": {
          "base_uri": "https://localhost:8080/"
        },
        "outputId": "e9a8da45-41df-4d92-c495-2d8417665db6"
      },
      "execution_count": null,
      "outputs": [
        {
          "output_type": "stream",
          "name": "stdout",
          "text": [
            "Fitting 10 folds for each of 10 candidates, totalling 100 fits\n"
          ]
        },
        {
          "output_type": "execute_result",
          "data": {
            "text/plain": [
              "RandomizedSearchCV(cv=ShuffleSplit(n_splits=10, random_state=42, test_size=0.2, train_size=None),\n",
              "                   estimator=Pipeline(steps=[('poly', PolynomialFeatures()),\n",
              "                                             ('feature_scaling',\n",
              "                                              StandardScaler()),\n",
              "                                             ('sgd_reg',\n",
              "                                              SGDRegressor(penalty='elasticnet',\n",
              "                                                           random_state=42))]),\n",
              "                   param_distributions={'poly__degree': [1, 2, 3],\n",
              "                                        'sgd_reg__eta0': <scipy.stats._distn_infrastructure.rv_frozen object at 0x7faa07969c10>,\n",
              "                                        'sgd_reg__l1_ratio': <scipy.stats._distn_infrastructure.rv_frozen object at 0x7faa06f94910>,\n",
              "                                        'sgd_reg__learning_rate': ['constant',\n",
              "                                                                   'adaptive',\n",
              "                                                                   'invscaling'],\n",
              "                                        'sgd_reg__power_t': <scipy.stats._distn_infrastructure.rv_frozen object at 0x7faa06f94390>},\n",
              "                   scoring='neg_mean_absolute_error', verbose=1)"
            ]
          },
          "metadata": {},
          "execution_count": 40
        }
      ]
    },
    {
      "cell_type": "markdown",
      "source": [
        "Comparison of weight vectors"
      ],
      "metadata": {
        "id": "ZX-k1YeN1O-c"
      }
    },
    {
      "cell_type": "code",
      "source": [
        "feature_names = poly_reg_cv_results[\"estimator\"][0][0].get_feature_names_out(\n",
        "    input_features=train_features.columns)\n",
        "feature_names"
      ],
      "metadata": {
        "id": "YJ3XEAI603MQ",
        "colab": {
          "base_uri": "https://localhost:8080/"
        },
        "outputId": "eb170069-0794-4633-c9c2-e959c86fd469"
      },
      "execution_count": null,
      "outputs": [
        {
          "output_type": "execute_result",
          "data": {
            "text/plain": [
              "array(['1', 'MedInc', 'HouseAge', 'AveRooms', 'AveBedrms', 'Population',\n",
              "       'AveOccup', 'Latitude', 'Longitude', 'MedInc HouseAge',\n",
              "       'MedInc AveRooms', 'MedInc AveBedrms', 'MedInc Population',\n",
              "       'MedInc AveOccup', 'MedInc Latitude', 'MedInc Longitude',\n",
              "       'HouseAge AveRooms', 'HouseAge AveBedrms', 'HouseAge Population',\n",
              "       'HouseAge AveOccup', 'HouseAge Latitude', 'HouseAge Longitude',\n",
              "       'AveRooms AveBedrms', 'AveRooms Population', 'AveRooms AveOccup',\n",
              "       'AveRooms Latitude', 'AveRooms Longitude', 'AveBedrms Population',\n",
              "       'AveBedrms AveOccup', 'AveBedrms Latitude', 'AveBedrms Longitude',\n",
              "       'Population AveOccup', 'Population Latitude',\n",
              "       'Population Longitude', 'AveOccup Latitude', 'AveOccup Longitude',\n",
              "       'Latitude Longitude'], dtype=object)"
            ]
          },
          "metadata": {},
          "execution_count": 41
        }
      ]
    },
    {
      "cell_type": "code",
      "source": [
        "coefs = [est[-1].coef_ for est in poly_reg_cv_results[\"estimator\"]]\n",
        "weights_polynomial_regression = pd.DataFrame(coefs, columns=feature_names)"
      ],
      "metadata": {
        "id": "8IvcHXO41ta2"
      },
      "execution_count": null,
      "outputs": []
    },
    {
      "cell_type": "code",
      "source": [
        "color = {\"whiskers\": \"black\", \"medians\": \"black\", \"caps\": \"black\"}\n",
        "weights_polynomial_regression.plot.box(color=color, vert=False, figsize=(6, 16))\n",
        "_ = plt.title(\"Polynomial regression coefficients\")"
      ],
      "metadata": {
        "id": "kKqyAh1m2JK-",
        "colab": {
          "base_uri": "https://localhost:8080/",
          "height": 934
        },
        "outputId": "08d3f23a-0276-4aab-a7fb-a09419654bbd"
      },
      "execution_count": null,
      "outputs": [
        {
          "output_type": "display_data",
          "data": {
            "text/plain": [
              "<Figure size 432x1152 with 1 Axes>"
            ],
            "image/png": "[encoded data removed]"
          },
          "metadata": {
            "needs_background": "light"
          }
        }
      ]
    },
    {
      "cell_type": "code",
      "source": [
        "feature_names = ridge_reg_cv_results[\"estimator\"][0][0].get_feature_names_out(\n",
        "    input_features=train_features.columns)\n",
        "feature_names"
      ],
      "metadata": {
        "id": "wjUu7R7E27up",
        "colab": {
          "base_uri": "https://localhost:8080/"
        },
        "outputId": "2bb4d7c8-ecd3-4a4e-a7df-3bf7b6d8d8ca"
      },
      "execution_count": null,
      "outputs": [
        {
          "output_type": "execute_result",
          "data": {
            "text/plain": [
              "array(['1', 'MedInc', 'HouseAge', 'AveRooms', 'AveBedrms', 'Population',\n",
              "       'AveOccup', 'Latitude', 'Longitude', 'MedInc^2', 'MedInc HouseAge',\n",
              "       'MedInc AveRooms', 'MedInc AveBedrms', 'MedInc Population',\n",
              "       'MedInc AveOccup', 'MedInc Latitude', 'MedInc Longitude',\n",
              "       'HouseAge^2', 'HouseAge AveRooms', 'HouseAge AveBedrms',\n",
              "       'HouseAge Population', 'HouseAge AveOccup', 'HouseAge Latitude',\n",
              "       'HouseAge Longitude', 'AveRooms^2', 'AveRooms AveBedrms',\n",
              "       'AveRooms Population', 'AveRooms AveOccup', 'AveRooms Latitude',\n",
              "       'AveRooms Longitude', 'AveBedrms^2', 'AveBedrms Population',\n",
              "       'AveBedrms AveOccup', 'AveBedrms Latitude', 'AveBedrms Longitude',\n",
              "       'Population^2', 'Population AveOccup', 'Population Latitude',\n",
              "       'Population Longitude', 'AveOccup^2', 'AveOccup Latitude',\n",
              "       'AveOccup Longitude', 'Latitude^2', 'Latitude Longitude',\n",
              "       'Longitude^2'], dtype=object)"
            ]
          },
          "metadata": {},
          "execution_count": 44
        }
      ]
    },
    {
      "cell_type": "code",
      "source": [
        "coefs = [est[-1].coef_ for est in ridge_reg_cv_results[\"estimator\"]]\n",
        "weights_ridge_regression = pd.DataFrame(coefs, columns=feature_names)"
      ],
      "metadata": {
        "id": "ttKxkiL527ur"
      },
      "execution_count": null,
      "outputs": []
    },
    {
      "cell_type": "code",
      "source": [
        "color = {\"whiskers\": \"black\", \"medians\": \"black\", \"caps\": \"black\"}\n",
        "weights_ridge_regression.plot.box(color=color, vert=False, figsize=(6, 16))\n",
        "_ = plt.title(\"Ridge regression coefficients\")"
      ],
      "metadata": {
        "id": "C4pInG0b27us",
        "colab": {
          "base_uri": "https://localhost:8080/",
          "height": 934
        },
        "outputId": "d8183a5e-dfa6-4380-d1e7-931aa582f468"
      },
      "execution_count": null,
      "outputs": [
        {
          "output_type": "display_data",
          "data": {
            "text/plain": [
              "<Figure size 432x1152 with 1 Axes>"
            ],
            "image/png": "[encoded data removed]"
          },
          "metadata": {
            "needs_background": "light"
          }
        }
      ]
    },
    {
      "cell_type": "markdown",
      "source": [
        "# Performance on the test set:"
      ],
      "metadata": {
        "id": "DUDxFHuQ3kuM"
      }
    },
    {
      "cell_type": "markdown",
      "source": [
        "Baseline"
      ],
      "metadata": {
        "id": "1wJM37m03o6m"
      }
    },
    {
      "cell_type": "code",
      "source": [
        "baseline_model_median = DummyRegressor(strategy='median')\n",
        "baseline_model_median.fit(train_features, train_labels)\n",
        "mean_absolute_percentage_error(test_labels, baseline_model_median.predict(test_features))"
      ],
      "metadata": {
        "id": "6-GWkg3v3qWN",
        "colab": {
          "base_uri": "https://localhost:8080/"
        },
        "outputId": "a0f2d162-1d72-4a77-f46c-2490e2168880"
      },
      "execution_count": null,
      "outputs": [
        {
          "output_type": "execute_result",
          "data": {
            "text/plain": [
              "0.5348927548151625"
            ]
          },
          "metadata": {},
          "execution_count": 47
        }
      ]
    },
    {
      "cell_type": "markdown",
      "source": [
        "Linear regression with normal equation"
      ],
      "metadata": {
        "id": "MiWoh4NV4Axq"
      }
    },
    {
      "cell_type": "code",
      "source": [
        "mean_absolute_percentage_error(test_labels,\n",
        "                               lin_reg_cv_results['estimator'][0].predict(\n",
        "                                   test_features))"
      ],
      "metadata": {
        "id": "Dfe0bdOB4GkM",
        "colab": {
          "base_uri": "https://localhost:8080/"
        },
        "outputId": "b1a171a1-ac39-4a77-8f5f-38345eea60ad"
      },
      "execution_count": null,
      "outputs": [
        {
          "output_type": "execute_result",
          "data": {
            "text/plain": [
              "0.32120472175482906"
            ]
          },
          "metadata": {},
          "execution_count": 48
        }
      ]
    },
    {
      "cell_type": "code",
      "source": [
        "mean_absolute_percentage_error(test_labels,\n",
        "                               poly_reg_cv_results['estimator'][0].predict(\n",
        "                                   test_features))"
      ],
      "metadata": {
        "id": "Tt9DCT-J4XX9",
        "colab": {
          "base_uri": "https://localhost:8080/"
        },
        "outputId": "5285aab4-f003-48f0-dcfc-d11734a6a8ba"
      },
      "execution_count": null,
      "outputs": [
        {
          "output_type": "execute_result",
          "data": {
            "text/plain": [
              "0.2834129629962902"
            ]
          },
          "metadata": {},
          "execution_count": 49
        }
      ]
    },
    {
      "cell_type": "markdown",
      "source": [
        "Polynomial regression"
      ],
      "metadata": {
        "id": "Lvt4v40k4tkq"
      }
    },
    {
      "cell_type": "code",
      "source": [
        "poly_reg_pipeline.fit(com_train_features, com_train_labels)\n",
        "mean_absolute_percentage_error(test_labels,\n",
        "                               poly_reg_pipeline.predict(\n",
        "                                   test_features))"
      ],
      "metadata": {
        "id": "o8WLnxLZ4vgA",
        "colab": {
          "base_uri": "https://localhost:8080/"
        },
        "outputId": "8348c047-1cee-4f1b-c6a0-b2ea2cb50984"
      },
      "execution_count": null,
      "outputs": [
        {
          "output_type": "execute_result",
          "data": {
            "text/plain": [
              "0.28199759082657244"
            ]
          },
          "metadata": {},
          "execution_count": 50
        }
      ]
    },
    {
      "cell_type": "markdown",
      "source": [
        "Ridge Regression"
      ],
      "metadata": {
        "id": "2OdQbBNe5Ar-"
      }
    },
    {
      "cell_type": "code",
      "source": [
        "mean_absolute_percentage_error(test_labels, \n",
        "                               ridge_grid_search.best_estimator_.predict(test_features))"
      ],
      "metadata": {
        "id": "m62sm8ok5C8l",
        "colab": {
          "base_uri": "https://localhost:8080/"
        },
        "outputId": "2d733ce9-2381-4ce0-ef6d-333e1b49fcfd"
      },
      "execution_count": null,
      "outputs": [
        {
          "output_type": "execute_result",
          "data": {
            "text/plain": [
              "0.27110336451421413"
            ]
          },
          "metadata": {},
          "execution_count": 51
        }
      ]
    },
    {
      "cell_type": "markdown",
      "source": [
        "Lasso Regression"
      ],
      "metadata": {
        "id": "MhuE_kRC5TBz"
      }
    },
    {
      "cell_type": "code",
      "source": [
        "mean_absolute_percentage_error(test_labels, \n",
        "                               lasso_grid_search.best_estimator_.predict(test_features))"
      ],
      "metadata": {
        "id": "3gMrlkTQ5VJ4",
        "colab": {
          "base_uri": "https://localhost:8080/"
        },
        "outputId": "cae5be79-5738-4dac-b06f-b7a182811919"
      },
      "execution_count": null,
      "outputs": [
        {
          "output_type": "execute_result",
          "data": {
            "text/plain": [
              "0.28074969263810107"
            ]
          },
          "metadata": {},
          "execution_count": 52
        }
      ]
    },
    {
      "cell_type": "markdown",
      "source": [
        "# Summary"
      ],
      "metadata": {
        "id": "AVR2LBsm50R5"
      }
    },
    {
      "cell_type": "markdown",
      "source": [
        "We trained multiple linear regression models on housing dataset. Set their hyperparamters through hyper-parameter optimization. Retrained models with the best values of hyper-parameters and then evaluated their performance on the test data (that was hold back until final evaluation).\n",
        "\n",
        "This is how most of the real world problems are solved starting from simple models to more sophisticated models."
      ],
      "metadata": {
        "id": "xf9hCBL85j_K"
      }
    }
  ],
  "metadata": {
    "colab": {
      "name": "Linear Regression on California housing Dataset.ipynb",
      "provenance": [],
      "collapsed_sections": [],
      "authorship_tag": "ABX9TyO6SA5p3vrtq8z7cCClpYsc",
      "include_colab_link": true
    },
    "kernelspec": {
      "display_name": "Python 3",
      "name": "python3"
    },
    "language_info": {
      "name": "python"
    }
  },
  "nbformat": 4,
  "nbformat_minor": 0
}